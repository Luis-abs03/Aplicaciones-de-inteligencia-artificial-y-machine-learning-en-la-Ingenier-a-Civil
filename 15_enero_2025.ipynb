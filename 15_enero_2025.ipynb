{
  "nbformat": 4,
  "nbformat_minor": 0,
  "metadata": {
    "colab": {
      "provenance": [],
      "authorship_tag": "ABX9TyOenvSxsy6C+NRcFIiKek3Y",
      "include_colab_link": true
    },
    "kernelspec": {
      "name": "python3",
      "display_name": "Python 3"
    },
    "language_info": {
      "name": "python"
    }
  },
  "cells": [
    {
      "cell_type": "markdown",
      "metadata": {
        "id": "view-in-github",
        "colab_type": "text"
      },
      "source": [
        "<a href=\"https://colab.research.google.com/github/Luis-abs03/Aplicaciones-de-inteligencia-artificial-y-machine-learning-en-la-Ingenier-a-Civil/blob/main/15_enero_2025.ipynb\" target=\"_parent\"><img src=\"https://colab.research.google.com/assets/colab-badge.svg\" alt=\"Open In Colab\"/></a>"
      ]
    },
    {
      "cell_type": "code",
      "source": [
        "# Programación orientada a objetos. Ejemplo 1: Con relación al fútbol.\n",
        "\n",
        "# Se define la clase del jugador\n",
        "class Jugador:\n",
        "  '''\n",
        "  Se define el constructor, el cual inicia con los atributos del objeto\n",
        "  '''\n",
        "  def __init__(self, nombre, equipo, posicion):\n",
        "    self.nombre = nombre\n",
        "    self.equipo = equipo\n",
        "    self.posicion = posicion\n",
        "    self.goles = 0 # Número de goles\n",
        "\n",
        "  # Método para que un jugador marque un gol\n",
        "  def gol(self):\n",
        "      self.goles += 1\n",
        "\n",
        "  # Método para mostrar la información del jugador\n",
        "  def mostrar_info(self):\n",
        "      return f\"Nombre: {self.nombre}\\n Equipo: {self.equipo}\\n Posición: {self.posicion}\\n Goles: {self.goles}\"\n",
        "\n",
        "# Creación de instancia de la clase (objetos)\n",
        "messi = Jugador(\"Lionel Messi\", \"PSG\", \"Delantero\")\n",
        "neymar = Jugador(\"Neymar Jr\", \"PSG\", \"Delantero\")\n",
        "ronaldo = Jugador(\"Cristiano Ronaldo\", \"Juventus\", \"Delantero\")\n",
        "\n",
        "# Uso de los métodos en el objeto\n",
        "messi.gol()\n",
        "neymar.gol()\n",
        "ronaldo.gol()\n",
        "ronaldo.gol()\n",
        "\n",
        "# Mostrar la información de los jugadores\n",
        "print(messi.mostrar_info())\n",
        "print()\n",
        "print(neymar.mostrar_info())\n",
        "print()\n",
        "print(ronaldo.mostrar_info())"
      ],
      "metadata": {
        "id": "D5CZdP3-nLoF"
      },
      "execution_count": null,
      "outputs": []
    },
    {
      "cell_type": "code",
      "source": [
        "# Programación orientada a objetos. Ejemplo 2: Con relación a personajes de Marvel.\n",
        "\n",
        "# Se define la clase del personaje\n",
        "class Personaje:\n",
        "  '''\n",
        "  Se define el constructor, el cual inicia con los atributos del objeto\n",
        "  '''\n",
        "  def __init__(self, nombre, universo, habilidades):\n",
        "    self.nombre = nombre\n",
        "    self.universo = universo\n",
        "    self.habilidades = habilidades\n",
        "\n",
        "  # Método para mostrar las habilidades del personaje\n",
        "  def mostrar_hab(self):\n",
        "      return f\"{self.nombre} tiene las habilidades: {','.join(self.habilidades)}\"\n",
        "\n",
        "# Clase derivara: superhéroe\n",
        "class SuperHeroe(Personaje):\n",
        "  def __init__(self, nombre, universo, habilidades):\n",
        "    super().__init__(nombre, universo, habilidades)\n",
        "\n",
        "  # Método específico para superhéroes\n",
        "  def salvar_dia(self):\n",
        "    return f\"{self.nombre} está salvando el día.\"\n",
        "\n",
        "# Clase derivara: Villanos\n",
        "class Villano(Personaje):\n",
        "  def __init__(self, nombre, universo, habilidades, plan_maligno):\n",
        "    super().__init__(nombre, universo, habilidades)\n",
        "    self.plan_maligno = plan_maligno\n",
        "\n",
        "  # Método específico para el villano\n",
        "  def ejecutar_plan(self):\n",
        "    return f\"{self.nombre} está ejecutando su plan maligno: {self.plan_maligno}\"\n",
        "\n",
        "# Se crean las instancias\n",
        "\n",
        "spiderman = SuperHeroe(\"Spider man\", \"Marvel\", [\"Volar\", \"Fuerza\", \"Agilidad\"])\n",
        "Octupus = Villano(\"Dr. Octupus\", \"Marvel\", [\"Brazos mecánicos\"],\"Experimento científico peligroso\")\n",
        "\n",
        "# Se llama a los métodos específicos\n",
        "\n",
        "print(spiderman.mostrar_hab())\n",
        "print(spiderman.salvar_dia())\n",
        "print()\n",
        "print(Octupus.mostrar_hab())\n",
        "print(Octupus.ejecutar_plan())\n"
      ],
      "metadata": {
        "id": "dsfX8oZnrpYa"
      },
      "execution_count": null,
      "outputs": []
    },
    {
      "cell_type": "code",
      "source": [
        "# Librería numpy\n",
        "import numpy as np\n",
        "\n",
        "# Creación de un arreglo\n",
        "a = np.array([1,2,3])\n",
        "print(a)\n",
        "print()\n",
        "\n",
        "# Producto de un arreglo\n",
        "print(a*2)\n",
        "print()\n",
        "\n",
        "# Creación de una matriz de 2x2\n",
        "matriz = np.array([[1,2],[3,4]])\n",
        "print(matriz)\n",
        "print()\n",
        "\n",
        "# Inverso de una matriz\n",
        "print(np.linalg.inv(matriz))\n",
        "print()"
      ],
      "metadata": {
        "id": "jXCnB2YczqvN"
      },
      "execution_count": null,
      "outputs": []
    },
    {
      "cell_type": "code",
      "source": [
        "# Librería Pandas\n",
        "\n",
        "import pandas as pd\n",
        "\n",
        "datos = {\"Nombre\": [\"Pedro\", \"Juan\", \"María\"], \"Edad\": [25, 30, 35]}\n",
        "df = pd.DataFrame(datos)\n",
        "print(df)"
      ],
      "metadata": {
        "id": "rlaG8UMp0-rM"
      },
      "execution_count": null,
      "outputs": []
    },
    {
      "cell_type": "code",
      "source": [
        "# Librería Matplotlib\n",
        "\n",
        "import matplotlib.pyplot as plt\n",
        "\n",
        "x = np.linspace(0, 10, 100)\n",
        "y = np.sin(x)\n",
        "\n",
        "plt.plot(x,y)\n",
        "plt.show()"
      ],
      "metadata": {
        "id": "q7ljM_xp1oiY"
      },
      "execution_count": null,
      "outputs": []
    },
    {
      "cell_type": "code",
      "source": [
        "# Gráfica con la librería matplotlib\n",
        "\n",
        "x = [1,2,3,4,5]\n",
        "y = [2,4,6,8,10]\n",
        "\n",
        "plt.plot(x,y)\n",
        "plt.xlabel(\"Eje x\")\n",
        "plt.ylabel(\"Eje y\")\n",
        "plt.title(\"Gráfica de ejemplo\")\n",
        "plt.show()"
      ],
      "metadata": {
        "id": "Cf6pNyW_2CBU"
      },
      "execution_count": null,
      "outputs": []
    },
    {
      "cell_type": "code",
      "source": [
        "# Mínimo de una función\n",
        "\n",
        "from scipy.optimize import minimize\n",
        "\n",
        "def funcion(x):\n",
        "  return (x**2) + 5\n",
        "\n",
        "resultado = minimize(funcion, x0=2)\n",
        "print(\"El valor mínimo encontrado es: \", resultado.x)"
      ],
      "metadata": {
        "colab": {
          "base_uri": "https://localhost:8080/"
        },
        "id": "L-QGlIWH2npp",
        "outputId": "64106ef0-2066-4d8c-8905-bfbe26974e77"
      },
      "execution_count": null,
      "outputs": [
        {
          "output_type": "stream",
          "name": "stdout",
          "text": [
            "El valor mínimo encontrado es:  [-1.88846401e-08]\n"
          ]
        }
      ]
    },
    {
      "cell_type": "code",
      "execution_count": null,
      "metadata": {
        "id": "IfbjAMW3o5Cf"
      },
      "outputs": [],
      "source": [
        "# Tarea: Crear un código para sumar y multiplicar dos matrices\n",
        "\n",
        "'''\n",
        "1. Invocar la librería numpy\n",
        "\n",
        "2. Definir dos matrices\n",
        "+ Con la libereria numpy, colocar los números en forma de arreglos.\n",
        "\n",
        "3. Utilizar la función de numpy que permita sumar y restar matrices.\n",
        "+ Se deberá crear una nueva variable para guardar el resultado espectivo.\n",
        "\n",
        "4. Imprimir los resultados.\n",
        "'''"
      ]
    },
    {
      "cell_type": "code",
      "source": [
        "# Libreria a utilizar\n",
        "import numpy as np\n",
        "\n",
        "# Matrices\n",
        "A = np.array([[1,2],[3,4]])\n",
        "B = np.array([[2,0],[1,3]])\n",
        "\n",
        "# Operaciones con matrices\n",
        "C = np.add(A,B) #Suma\n",
        "D = np.dot(A,B) #Producto\n",
        "\n",
        "# Resultado\n",
        "print(\"La suma de las matrices A y B es:\")\n",
        "print(C)\n",
        "print()\n",
        "print(\"La multiplicación de las matrices A y B es: \\n\",D)"
      ],
      "metadata": {
        "id": "3x0-QS6VsNU7"
      },
      "execution_count": null,
      "outputs": []
    }
  ]
}