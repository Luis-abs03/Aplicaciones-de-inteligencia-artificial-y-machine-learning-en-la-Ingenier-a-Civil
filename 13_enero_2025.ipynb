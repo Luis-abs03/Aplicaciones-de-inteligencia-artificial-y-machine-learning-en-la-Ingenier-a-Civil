{
  "nbformat": 4,
  "nbformat_minor": 0,
  "metadata": {
    "colab": {
      "provenance": [],
      "authorship_tag": "ABX9TyNeFl84YtIVuw3YL7yt5Zlq",
      "include_colab_link": true
    },
    "kernelspec": {
      "name": "python3",
      "display_name": "Python 3"
    },
    "language_info": {
      "name": "python"
    }
  },
  "cells": [
    {
      "cell_type": "markdown",
      "metadata": {
        "id": "view-in-github",
        "colab_type": "text"
      },
      "source": [
        "<a href=\"https://colab.research.google.com/github/Luis-abs03/Aplicaciones-de-inteligencia-artificial-y-machine-learning-en-la-Ingenier-a-Civil/blob/main/13_enero_2025.ipynb\" target=\"_parent\"><img src=\"https://colab.research.google.com/assets/colab-badge.svg\" alt=\"Open In Colab\"/></a>"
      ]
    },
    {
      "cell_type": "markdown",
      "source": [
        "# Introducción a Python"
      ],
      "metadata": {
        "id": "XmhzSxk0sDBV"
      }
    },
    {
      "cell_type": "code",
      "source": [
        "nombre = \"Luis abs\"\n",
        "edad = 21"
      ],
      "metadata": {
        "id": "Z9CTUBacmD1H"
      },
      "execution_count": 1,
      "outputs": []
    },
    {
      "cell_type": "code",
      "execution_count": 2,
      "metadata": {
        "id": "NctzIhvBTCY_"
      },
      "outputs": [],
      "source": [
        "# Operadores\n",
        "suma = 5 + 3\n",
        "resta = 5 - 3\n",
        "Multiplicacion = 5 * 3"
      ]
    },
    {
      "cell_type": "code",
      "source": [
        "print(suma)\n",
        "print(resta)\n",
        "print(Multiplicacion)\n"
      ],
      "metadata": {
        "id": "KCT0M-DPiu93"
      },
      "execution_count": null,
      "outputs": []
    },
    {
      "cell_type": "code",
      "source": [
        "# Estructuras de control\n",
        "\n",
        "if edad >= 18:\n",
        "    print(\"Eres mayor de edad\")\n",
        "    print(\"Puedes votar\")\n",
        "else:\n",
        "    print(\"Eres menor de edad\")\n",
        "    print(\"No puedes votar\")"
      ],
      "metadata": {
        "id": "6v_DLc_Li1Ja"
      },
      "execution_count": null,
      "outputs": []
    },
    {
      "cell_type": "code",
      "source": [
        "# Bucle\n",
        "\n",
        "for i in range(12):\n",
        "    print(i)"
      ],
      "metadata": {
        "id": "QcFzNq_MpMzj"
      },
      "execution_count": null,
      "outputs": []
    },
    {
      "cell_type": "code",
      "source": [
        "# Bucle While. Se repite miestras una condición sea verdadera.\n",
        "\n",
        "contador = 0\n",
        "\n",
        "while contador < 5:\n",
        "    print(contador)\n",
        "    contador += 1\n"
      ],
      "metadata": {
        "id": "6GVt8UYerPB9"
      },
      "execution_count": null,
      "outputs": []
    },
    {
      "cell_type": "markdown",
      "source": [
        "# Ejercicio práctico"
      ],
      "metadata": {
        "id": "0f62Mgq-saV8"
      }
    },
    {
      "cell_type": "code",
      "source": [
        "'''\n",
        "Escribir un programa que:\n",
        " -> Solicite al usuario su name y data\n",
        " -> Determine si es mayor o menor de edad\n",
        " -> Imprima un mensaje personalizado\n",
        "'''\n",
        "\n",
        "name = input(\"¿Cual es tu nombre?\")\n",
        "date = int(input(\"¿Cuántos años tienes?\"))\n",
        "\n",
        "if date >= 18:\n",
        "  print(name, \"eres mayor de edad\")\n",
        "else:\n",
        "  print(name, \"eres menor de edad\")\n",
        "\n",
        "print(\"Hasta luego,\", name)\n",
        "\n"
      ],
      "metadata": {
        "id": "bqrAOIJSshgb"
      },
      "execution_count": null,
      "outputs": []
    },
    {
      "cell_type": "code",
      "source": [
        "'''\n",
        "Escribir un programa que:\n",
        " -> Solicite al usuario su name y data\n",
        " -> Determine si es mayor o menor de edad\n",
        " -> Imprima un mensaje personalizado\n",
        "'''\n",
        "# Otra forma\n",
        "\n",
        "name2 = input(\"¿Cual es tu nombre?: \")\n",
        "date2 = int(input(\"¿Cuántos años tienes?: \"))\n",
        "\n",
        "if date2 >= 18:\n",
        "  print()\n",
        "  print(f\"Hola {name2}, puedes tomar con regulación\")\n",
        "\n",
        "else:\n",
        "  print()\n",
        "  print(f\"Hola {name2}, toma agua\")\n",
        "\n",
        "print(\"Hasta luego,\", name2)"
      ],
      "metadata": {
        "id": "hd6d0Co4vCwR"
      },
      "execution_count": null,
      "outputs": []
    }
  ]
}