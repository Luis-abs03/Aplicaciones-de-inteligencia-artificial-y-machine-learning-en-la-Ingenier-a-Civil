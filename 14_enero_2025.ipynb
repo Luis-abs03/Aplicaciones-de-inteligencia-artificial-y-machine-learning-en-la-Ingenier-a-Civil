{
  "cells": [
    {
      "cell_type": "markdown",
      "metadata": {
        "id": "view-in-github",
        "colab_type": "text"
      },
      "source": [
        "<a href=\"https://colab.research.google.com/github/Luis-abs03/Aplicaciones-de-inteligencia-artificial-y-machine-learning-en-la-Ingenier-a-Civil/blob/main/14_enero_2025.ipynb\" target=\"_parent\"><img src=\"https://colab.research.google.com/assets/colab-badge.svg\" alt=\"Open In Colab\"/></a>"
      ]
    },
    {
      "cell_type": "code",
      "execution_count": null,
      "metadata": {
        "colab": {
          "background_save": true,
          "base_uri": "https://localhost:8080/"
        },
        "id": "MAYg3DRX2ll5",
        "outputId": "b33fe6fe-7437-4907-ddae-e57a08f37555"
      },
      "outputs": [
        {
          "name": "stdout",
          "output_type": "stream",
          "text": [
            "4.25\n"
          ]
        }
      ],
      "source": [
        "# El código siguiente muestra el calculo de la suma de dos números.\n",
        "\n",
        "def suma(a, b):         # Se definen los parametros a, b\n",
        "    return a + b        # Ésta función retorna la suma de a, b\n",
        "print(suma(1.7,2.55))   # Ésta es la ejecución de la función\n",
        "\n",
        "# NOTA: Los valores puedes ser enteros(int) o decimales(float)"
      ]
    },
    {
      "cell_type": "code",
      "execution_count": null,
      "metadata": {
        "id": "uggVLJD9daZJ"
      },
      "outputs": [],
      "source": [
        "# Controles de flujo\n",
        "'''\n",
        "El control de flujo permite ditigir la ejecución del programa basándose en\n",
        "condiciones o repeticiones\n",
        "'''"
      ]
    },
    {
      "cell_type": "code",
      "execution_count": null,
      "metadata": {
        "id": "MTDEsRIElTet"
      },
      "outputs": [],
      "source": [
        "# Ejemplo\n",
        "edad = int(input(\"¿Cuál es tu edad?: \"))\n",
        "\n",
        "if edad < 18:\n",
        "    print(\"Menor de edad\")\n",
        "elif 18 <= edad < 65:\n",
        "    print(\"Adulto\")\n",
        "else:\n",
        "    print(\"Adulto mayor\")\n"
      ]
    },
    {
      "cell_type": "markdown",
      "metadata": {
        "id": "aLfA3WWH5feZ"
      },
      "source": [
        "**LISTAS**\n",
        "\n",
        "Una lista en python es una estructura de datos que permite almacenar múltiples elementos ordenados. Es una colección mutable, lo que significa que sus elementos pueden ser modificables (agregar, eleminar o cambiar elementos) después de su creación.\n",
        "\n",
        "Características.\n",
        " * Ordenadas. Los elementos tienen un índice que comienza en cero\n",
        " * Mutables. Pueden modificar su contenido.\n",
        " * Tipos de datos mixos. Una lista puede conteer diferentes tipos de datos.\n",
        " * Representación. Se delimitan por corchetes [ ] y los elementos están representados por comas."
      ]
    },
    {
      "cell_type": "code",
      "execution_count": null,
      "metadata": {
        "id": "iyzy9BgR8wXT"
      },
      "outputs": [],
      "source": [
        "# Ejemplo básico de una lista.\n",
        "\n",
        "lista = [1, 2, 3, 4, 5]\n",
        "print(lista)"
      ]
    },
    {
      "cell_type": "code",
      "execution_count": null,
      "metadata": {
        "colab": {
          "base_uri": "https://localhost:8080/"
        },
        "id": "hZHWC67P87gD",
        "outputId": "421ec959-df66-473f-ef9e-d27a453beffb"
      },
      "outputs": [
        {
          "name": "stdout",
          "output_type": "stream",
          "text": [
            "3.14\n"
          ]
        }
      ],
      "source": [
        "# Ejemplo de clase de una lista.\n",
        "\n",
        "mi_lista = [1,2,3, \"Intersemestral\", True, 3.14]\n",
        "print(mi_lista[5])"
      ]
    },
    {
      "cell_type": "code",
      "execution_count": null,
      "metadata": {
        "colab": {
          "base_uri": "https://localhost:8080/"
        },
        "id": "Ve8ihsxe9WRg",
        "outputId": "abbced38-c9ab-4f7e-f168-aef14f1ef511"
      },
      "outputs": [
        {
          "name": "stdout",
          "output_type": "stream",
          "text": [
            "['Python', 2, 3, 'Intersemestral', True, 3.14]\n"
          ]
        }
      ],
      "source": [
        "# Modificar un elemento de mi_lsta\n",
        "\n",
        "mi_lista[0] = \"Python\"\n",
        "print(mi_lista)"
      ]
    },
    {
      "cell_type": "code",
      "execution_count": null,
      "metadata": {
        "colab": {
          "base_uri": "https://localhost:8080/"
        },
        "id": "5CblzOR49-a8",
        "outputId": "5396416a-28d3-4d41-e138-7e160d50897f"
      },
      "outputs": [
        {
          "name": "stdout",
          "output_type": "stream",
          "text": [
            "['Python', 2, 3, 'Intersemestral', True, 3.14, False]\n"
          ]
        }
      ],
      "source": [
        "# Agregar un elemento a mi_lista\n",
        "\n",
        "mi_lista.append(False)\n",
        "print(mi_lista)"
      ]
    },
    {
      "cell_type": "code",
      "execution_count": null,
      "metadata": {
        "colab": {
          "base_uri": "https://localhost:8080/"
        },
        "id": "doY2IV8S-aA_",
        "outputId": "ce0fac33-c3e3-40e6-cbd1-a5f630780672"
      },
      "outputs": [
        {
          "name": "stdout",
          "output_type": "stream",
          "text": [
            "['Python', 2, 'Intersemestral', True, 3.14, False]\n"
          ]
        }
      ],
      "source": [
        "# Eliminar un elemento de mi_lista\n",
        "\n",
        "mi_lista.remove(3)\n",
        "print(mi_lista)"
      ]
    },
    {
      "cell_type": "code",
      "execution_count": null,
      "metadata": {
        "colab": {
          "base_uri": "https://localhost:8080/"
        },
        "id": "xrO5nu26-mcJ",
        "outputId": "9c02f610-6fa7-422c-d9ff-b2b9bf7f3997"
      },
      "outputs": [
        {
          "name": "stdout",
          "output_type": "stream",
          "text": [
            "6\n"
          ]
        }
      ],
      "source": [
        "# Longitud de mi_lista\n",
        "\n",
        "print(len(mi_lista))"
      ]
    },
    {
      "cell_type": "markdown",
      "metadata": {
        "id": "VIBijNrs-1Lq"
      },
      "source": [
        "**TUPLAS**\n",
        "\n",
        "Una tupla en Python es una estructura de datos que permite almacenar múltiples elementos ordenados, pero es inmutable, lo que significa que no se puede modificar después de su creación.\n",
        "\n",
        "Puede almacenar datos de tipo mixto y su representación se define entre parentesis y sus elementos están separados por comas."
      ]
    },
    {
      "cell_type": "code",
      "execution_count": null,
      "metadata": {
        "colab": {
          "base_uri": "https://localhost:8080/"
        },
        "id": "Af_rxVTKzZfh",
        "outputId": "889f20b8-c483-4196-be3f-9855e6efe2b3"
      },
      "outputs": [
        {
          "name": "stdout",
          "output_type": "stream",
          "text": [
            "(1, 2, 3, 'Intersemestral', True, 3.14)\n"
          ]
        }
      ],
      "source": [
        "# Tupla\n",
        "\n",
        "mi_tupla = (1, 2, 3, \"Intersemestral\", True, 3.14)\n",
        "print(mi_tupla)"
      ]
    },
    {
      "cell_type": "code",
      "execution_count": null,
      "metadata": {
        "colab": {
          "base_uri": "https://localhost:8080/"
        },
        "id": "1yjm4BhszhAq",
        "outputId": "f09f879d-3129-4544-912a-1bed0d57b388"
      },
      "outputs": [
        {
          "name": "stdout",
          "output_type": "stream",
          "text": [
            "Intersemestral\n"
          ]
        }
      ],
      "source": [
        "# Accdeder a un elemento de la tupla\n",
        "\n",
        "print(mi_tupla[3])"
      ]
    },
    {
      "cell_type": "code",
      "execution_count": null,
      "metadata": {
        "colab": {
          "base_uri": "https://localhost:8080/"
        },
        "id": "RA3IaxqyzpX9",
        "outputId": "9d7fdef7-3715-46ee-b0ea-f4336a3de216"
      },
      "outputs": [
        {
          "name": "stdout",
          "output_type": "stream",
          "text": [
            "6\n"
          ]
        }
      ],
      "source": [
        "# Longitud de la tupla\n",
        "\n",
        "print(len(mi_tupla))"
      ]
    },
    {
      "cell_type": "markdown",
      "metadata": {
        "id": "dqe_yRVRzupr"
      },
      "source": [
        "**DICCIONARIOS**\n",
        "\n",
        "Los diccionarios son colecciones de pares clave-valor. Se utilizan para almacenar datos de manera organizada, donde cada clave es única y está asociada a un valor.\n",
        "\n",
        "Los diccionarios son estructuras de datos. A difereencia de las listas y las tuplas, los diccionarios no están iindexados por posiciones numéricas, sino por claves que pueden ser de cualquier tipo inmutable.\n",
        "\n",
        "Uso\n",
        "- Representar datos estructurados, como resgistros o configuraciones.\n",
        "- Asociar identificadores únicos a valores."
      ]
    },
    {
      "cell_type": "code",
      "execution_count": null,
      "metadata": {
        "colab": {
          "base_uri": "https://localhost:8080/"
        },
        "id": "88Oqo0S91CBW",
        "outputId": "f96b2c79-0849-402f-8b43-c9ee77f778e1"
      },
      "outputs": [
        {
          "name": "stdout",
          "output_type": "stream",
          "text": [
            "{'Nombre': 'Juan', 'Edad': 25, 'Ciudad': 'Madrid'}\n"
          ]
        }
      ],
      "source": [
        "# Creación de un diccionario\n",
        "\n",
        "mi_diccionario = {\"Nombre\": \"Juan\", \"Edad\": 25, \"Ciudad\": \"Madrid\"}\n",
        "print(mi_diccionario)"
      ]
    },
    {
      "cell_type": "code",
      "execution_count": null,
      "metadata": {
        "colab": {
          "base_uri": "https://localhost:8080/"
        },
        "id": "UiPrNoXr1Fkt",
        "outputId": "1eba3c40-01f0-4f76-e5dd-1edcbc142de5"
      },
      "outputs": [
        {
          "name": "stdout",
          "output_type": "stream",
          "text": [
            "Juan\n",
            "25\n",
            "Madrid\n"
          ]
        }
      ],
      "source": [
        "# Solicitar informacion especifica\n",
        "\n",
        "print(mi_diccionario[\"Nombre\"])\n",
        "print(mi_diccionario[\"Edad\"])\n",
        "print(mi_diccionario[\"Ciudad\"])"
      ]
    },
    {
      "cell_type": "code",
      "execution_count": null,
      "metadata": {
        "id": "iJRfQJ7c1lRH"
      },
      "outputs": [],
      "source": [
        "# Claves y valores\n",
        "\n",
        "print(mi_diccionario.keys())\n",
        "print()\n",
        "print(mi_diccionario.values())\n",
        "print()\n",
        "print(mi_diccionario.items())\n"
      ]
    },
    {
      "cell_type": "code",
      "execution_count": null,
      "metadata": {
        "colab": {
          "base_uri": "https://localhost:8080/"
        },
        "id": "0sATnHv72dP-",
        "outputId": "0031244f-6b98-4cad-bf39-b3c5ee667a5a"
      },
      "outputs": [
        {
          "name": "stdout",
          "output_type": "stream",
          "text": [
            "{'Nombre': 'Luis', 'Edad': 21, 'Ciudad': 'Edo Mex'}\n"
          ]
        }
      ],
      "source": [
        "# Modificación de los diccionarios\n",
        "\n",
        "mi_diccionario[\"Nombre\"] = \"Luis\"\n",
        "mi_diccionario[\"Ciudad\"] = \"Edo Mex\"\n",
        "mi_diccionario[\"Edad\"] = 21\n",
        "print(mi_diccionario)"
      ]
    },
    {
      "cell_type": "markdown",
      "metadata": {
        "id": "bLDZBgOn23gL"
      },
      "source": [
        "**MÓDULOS Y PAQUETES**\n",
        "\n",
        "Un modúlo es un archivo de python que contiene definiciones y declaraciones que pueden ser reutilizadas en otros programas. Un paquete es una colección de modúlos organizados en directorios.\n",
        "\n",
        "Ventajas:\n",
        "* Fomenta la reutilización de código.\n",
        "* Facilita la organización de proyectos grandes.\n",
        "* Permite el uso de bibliotecas externas.\n",
        "\n",
        "Tipos de modúlos:\n",
        "* Modúlos estándar. Son proporcionados por python, como math, os, random.\n",
        "* Modúlos personalizados. Son creados por el usuario para funciones específicas.\n",
        "* Bibliotecas externas. Son instalados con alguna herramienta, como pip."
      ]
    },
    {
      "cell_type": "code",
      "execution_count": null,
      "metadata": {
        "id": "syiOKUR62KDx"
      },
      "outputs": [],
      "source": [
        "# Librería math\n",
        "\n",
        "import math\n",
        "\n",
        "print(math.sqrt(16))"
      ]
    },
    {
      "cell_type": "markdown",
      "metadata": {
        "id": "UgyhSrDo20at"
      },
      "source": [
        "**PROGRAMACIÓN ORIENTADA A OBJETOS (POO)**\n",
        "\n",
        "La POO es un paradigma que organiza el código en torno a objetos o clases. Permite modelar entidades del mundo real y sus interaciones.\n",
        "\n",
        "*Conceptos fundamentales.\n",
        "\n",
        "- Clases. Plantilla para crear objetos, que definen atributos y comportamientos\n",
        "- Objetos. Instancias de una clase que tienen propiedades y métodos.\n",
        "- Encapsulamiento. Oculta los detalles internos de un objeto y exponen solo lo necesario.\n",
        "- Herencia. Permite crear nuevas clases basadas en clases existentes.\n",
        "- Polimorfismo. Habilidad de los objetos para responder de manera diferente al mismo método.\n",
        "\n",
        "*Beneficios.\n",
        "- Mejora la modularidad y reutilización del código.\n",
        "- Facilita el mantenimiento y estabilidad de proyectos."
      ]
    },
    {
      "cell_type": "code",
      "execution_count": null,
      "metadata": {
        "id": "cdQhkWh64tvs"
      },
      "outputs": [],
      "source": [
        "# Clase y objeto\n",
        "\n",
        "class Persona:\n",
        "    def __init__(self, nombre, edad):\n",
        "        self.nombre = nombre\n",
        "        self.edad = edad\n",
        "    def saludar(self):\n",
        "        print(f\"Hola, mi nombre es {self.nombre} y tengo {self.edad} años.\")\n",
        "\n",
        "persona1 = Persona(\"Luis\", 21)\n",
        "persona1.saludar()"
      ]
    },
    {
      "cell_type": "code",
      "execution_count": null,
      "metadata": {
        "colab": {
          "base_uri": "https://localhost:8080/"
        },
        "id": "ae8Zlvwp5Tia",
        "outputId": "0086447d-3a63-4af1-e01e-ac8f2b3ceba8"
      },
      "outputs": [
        {
          "name": "stdout",
          "output_type": "stream",
          "text": [
            "Hola, mi nombre es Luis y tengo 21 años.\n",
            "Luis está estudiando en el grado Octavo.\n"
          ]
        }
      ],
      "source": [
        "# Herencia\n",
        "\n",
        "class Estudiante(Persona):\n",
        "    def __init__(self, nombre, edad, grado):\n",
        "        super().__init__(nombre, edad)\n",
        "        self.grado = grado\n",
        "\n",
        "    def nivel(self):\n",
        "      print(f\"{self.nombre} está estudiando en el grado {self.grado}.\")\n",
        "\n",
        "estudiante1 = Estudiante(\"Luis\", 21, \"Octavo\")\n",
        "estudiante1.saludar()\n",
        "estudiante1.nivel()"
      ]
    }
  ],
  "metadata": {
    "colab": {
      "provenance": [],
      "authorship_tag": "ABX9TyOqQxpBK2NFygcB6uwc1cjH",
      "include_colab_link": true
    },
    "kernelspec": {
      "display_name": "Python 3",
      "name": "python3"
    },
    "language_info": {
      "name": "python"
    }
  },
  "nbformat": 4,
  "nbformat_minor": 0
}